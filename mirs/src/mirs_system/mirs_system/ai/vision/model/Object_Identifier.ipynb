{
 "cells": [
  {
   "cell_type": "code",
   "execution_count": 149,
   "id": "dfd47d9c",
   "metadata": {},
   "outputs": [],
   "source": [
    "import numpy as np\n",
    "import cv2\n",
    "import matplotlib.image as im\n",
    "import matplotlib.pyplot as plt"
   ]
  },
  {
   "cell_type": "code",
   "execution_count": 150,
   "id": "ccecff10",
   "metadata": {},
   "outputs": [],
   "source": [
    "class DataLoader:\n",
    "    def load(self,dir_path):\n",
    "        folders = os.listdir(dir_path)\n",
    "        labels = []\n",
    "        features = []\n",
    "        for label_name in folders:\n",
    "            files = os.listdir(label_name)\n",
    "            for img_path in files:\n",
    "                img = im.imread(img_path)\n",
    "                img_gray = cv2.cvtColor(img,cv2.COLOR_BGR2GRAY)\n",
    "                feature,hog_img = hog(img_gray,\n",
    "                                    orientations=11,\n",
    "                                    pixels_per_cell=(16, 16),\n",
    "                                    cells_per_block=(2, 2),\n",
    "                                    visualize=True,\n",
    "                                    transform_sqrt=False,\n",
    "                                    feature_vector=True)\n",
    "                features.append(feature)\n",
    "                labels.append(label_name)\n",
    "        return np.asarray(features),np.array(labels)\n",
    "\n",
    "\n",
    "class ObjectIdentifier:\n",
    "    def __init__(self,MIN_CONF=0.5):\n",
    "        self.net = cv2.dnn.readNetFromDarknet('yolov3.cfg', 'yolov3.weights')\n",
    "        self.net.setPreferableBackend(cv2.dnn.DNN_BACKEND_OPENCV)\n",
    "        self.MIN_CONF = MIN_CONF\n",
    "\n",
    "    def predict(self,img):\n",
    "        ln = self.net.getLayerNames()\n",
    "        ln = [ln[i - 1] for i in self.net.getUnconnectedOutLayers()]\n",
    "\n",
    "        # construct a blob from the image\n",
    "        blob = cv2.dnn.blobFromImage(img, 1/255.0, (416, 416), swapRB=True, crop=False)\n",
    "        \n",
    "        r = blob[0, 0, :, :]\n",
    "        \n",
    "        self.net.setInput(blob)\n",
    "        outputs = self.net.forward(ln)\n",
    "        \n",
    "        return self.identify(img,outputs)\n",
    "        \n",
    "    def identify(self,img, outputs):\n",
    "        boxes = []\n",
    "        confidences = []\n",
    "        classIDs = []\n",
    "\n",
    "        IMG_WIDTH = img.shape[1]\n",
    "        IMG_HEIGHT = img.shape[0]\n",
    "\n",
    "        for output in outputs:\n",
    "            for detection in output:\n",
    "               \n",
    "                #Getting scores\n",
    "                scores = detection[5:]\n",
    "\n",
    "                #Finding max score\n",
    "                class_id = np.argmax(scores)\n",
    "\n",
    "                #Getting the corresponding confidencce\n",
    "                confidence = scores[class_id]\n",
    "\n",
    "                #Create box if the confidence is greater than min conf\n",
    "                if confidence > self.MIN_CONF:\n",
    "                    #Calculating box params\n",
    "                    center_x = int(detection[0] * IMG_WIDTH)\n",
    "                    center_y = int(detection[1] * IMG_HEIGHT)\n",
    "\n",
    "                    w = int(detection[2] * IMG_WIDTH)\n",
    "                    h = int(detection[3] * IMG_WIDTH)\n",
    "\n",
    "                    x = center_x - w / 2\n",
    "                    y = center_y - h / 2\n",
    "\n",
    "                    class_ids.append(class_id)\n",
    "                    confidences.append(float(confidence))\n",
    "                    boxes.append([x, y, w, h])\n",
    "                    \n",
    "        return boxes,confidences,classIDs\n",
    "                \n",
    "    def draw_box(self,boxes,confidences):\n",
    "        indices = cv.dnn.NMSBoxes(boxes, confidences, conf, conf-0.1)\n",
    "        if len(indices) > 0:\n",
    "            for i in indices.flatten():\n",
    "                (x, y) = (boxes[i][0], boxes[i][1])\n",
    "                (w, h) = (boxes[i][2], boxes[i][3])\n",
    "                color = [int(c) for c in colors[classIDs[i]]]\n",
    "                cv.rectangle(img, (x, y), (x + w, y + h), color, 2)\n",
    "                text = \"{}: {:.4f}\".format(classes[classIDs[i]], confidences[i])\n",
    "                cv.putText(img, text, (x, y - 5), cv.FONT_HERSHEY_SIMPLEX, 0.5, color, 1)"
   ]
  },
  {
   "cell_type": "code",
   "execution_count": 151,
   "id": "4746b762",
   "metadata": {},
   "outputs": [
    {
     "data": {
      "text/plain": [
       "<matplotlib.image.AxesImage at 0x12bafe3bdf0>"
      ]
     },
     "execution_count": 151,
     "metadata": {},
     "output_type": "execute_result"
    },
    {
     "data": {
      "image/png": "[encoded data removed]",
      "text/plain": [
       "<Figure size 432x288 with 1 Axes>"
      ]
     },
     "metadata": {
      "needs_background": "light"
     },
     "output_type": "display_data"
    }
   ],
   "source": [
    "objIdentifier = ObjectIdentifier(MIN_CONF=0.5)\n",
    "\n",
    "img = im.imread(\"screw_driver.jpg\")\n",
    "plt.imshow(img)"
   ]
  },
  {
   "cell_type": "code",
   "execution_count": 152,
   "id": "2af41759",
   "metadata": {},
   "outputs": [
    {
     "data": {
      "text/plain": [
       "([], [], [])"
      ]
     },
     "execution_count": 152,
     "metadata": {},
     "output_type": "execute_result"
    }
   ],
   "source": [
    "outputs = objIdentifier.predict(img)\n",
    "outputs"
   ]
  }
 ],
 "metadata": {
  "kernelspec": {
   "display_name": "Python 3 (ipykernel)",
   "language": "python",
   "name": "python3"
  },
  "language_info": {
   "codemirror_mode": {
    "name": "ipython",
    "version": 3
   },
   "file_extension": ".py",
   "mimetype": "text/x-python",
   "name": "python",
   "nbconvert_exporter": "python",
   "pygments_lexer": "ipython3",
   "version": "3.9.8"
  }
 },
 "nbformat": 4,
 "nbformat_minor": 5
}
